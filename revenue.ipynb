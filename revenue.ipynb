{
 "cells": [
  {
   "cell_type": "code",
   "execution_count": 2,
   "metadata": {},
   "outputs": [],
   "source": [
    "import pandas as pd\n",
    "import numpy as np\n",
    "import matplotlib.pyplot as plt\n",
    "import matplotlib.ax"
   ]
  },
  {
   "cell_type": "code",
   "execution_count": 3,
   "metadata": {},
   "outputs": [],
   "source": [
    "rev_df = pd.read_csv(\"/home/cody/football_analysis/confrence-finaces - Sheet1.csv\")"
   ]
  },
  {
   "cell_type": "code",
   "execution_count": 4,
   "metadata": {},
   "outputs": [
    {
     "data": {
      "text/html": [
       "<div>\n",
       "<style scoped>\n",
       "    .dataframe tbody tr th:only-of-type {\n",
       "        vertical-align: middle;\n",
       "    }\n",
       "\n",
       "    .dataframe tbody tr th {\n",
       "        vertical-align: top;\n",
       "    }\n",
       "\n",
       "    .dataframe thead th {\n",
       "        text-align: right;\n",
       "    }\n",
       "</style>\n",
       "<table border=\"1\" class=\"dataframe\">\n",
       "  <thead>\n",
       "    <tr style=\"text-align: right;\">\n",
       "      <th></th>\n",
       "      <th>School</th>\n",
       "      <th>Confrence</th>\n",
       "      <th>Revenue</th>\n",
       "      <th>Expenses</th>\n",
       "    </tr>\n",
       "  </thead>\n",
       "  <tbody>\n",
       "    <tr>\n",
       "      <th>0</th>\n",
       "      <td>Texas</td>\n",
       "      <td>Big 12</td>\n",
       "      <td>$214,830,647</td>\n",
       "      <td>$207,022,323</td>\n",
       "    </tr>\n",
       "    <tr>\n",
       "      <th>1</th>\n",
       "      <td>Michigan</td>\n",
       "      <td>Big Ten</td>\n",
       "      <td>$185,173,187</td>\n",
       "      <td>$175,425,392</td>\n",
       "    </tr>\n",
       "    <tr>\n",
       "      <th>2</th>\n",
       "      <td>Ohio State</td>\n",
       "      <td>Big Ten</td>\n",
       "      <td>$185,409,602</td>\n",
       "      <td>$173,507,435</td>\n",
       "    </tr>\n",
       "    <tr>\n",
       "      <th>3</th>\n",
       "      <td>Alabama</td>\n",
       "      <td>SEC</td>\n",
       "      <td>$174,307,419</td>\n",
       "      <td>$158,646,962</td>\n",
       "    </tr>\n",
       "    <tr>\n",
       "      <th>4</th>\n",
       "      <td>Texas A&amp;M</td>\n",
       "      <td>SEC</td>\n",
       "      <td>$211,960,034</td>\n",
       "      <td>$146,546,229</td>\n",
       "    </tr>\n",
       "  </tbody>\n",
       "</table>\n",
       "</div>"
      ],
      "text/plain": [
       "       School Confrence       Revenue      Expenses\n",
       "0       Texas    Big 12  $214,830,647  $207,022,323\n",
       "1    Michigan   Big Ten  $185,173,187  $175,425,392\n",
       "2  Ohio State   Big Ten  $185,409,602  $173,507,435\n",
       "3     Alabama       SEC  $174,307,419  $158,646,962\n",
       "4   Texas A&M       SEC  $211,960,034  $146,546,229"
      ]
     },
     "execution_count": 4,
     "metadata": {},
     "output_type": "execute_result"
    }
   ],
   "source": [
    "rev_df.head()"
   ]
  },
  {
   "cell_type": "code",
   "execution_count": 5,
   "metadata": {},
   "outputs": [
    {
     "data": {
      "text/plain": [
       "{'A-10',\n",
       " 'AAC',\n",
       " 'ACC',\n",
       " 'Am East',\n",
       " 'Atl Sun',\n",
       " 'Big 12',\n",
       " 'Big Sky',\n",
       " 'Big South',\n",
       " 'Big Ten',\n",
       " 'Big West',\n",
       " 'C-USA',\n",
       " 'CAA',\n",
       " 'Horizon',\n",
       " 'MAC',\n",
       " 'MEAC',\n",
       " 'Mo. Valley',\n",
       " 'Mt. West',\n",
       " 'Northeast',\n",
       " 'Ohio Valley',\n",
       " 'Pac-12',\n",
       " 'SEC',\n",
       " 'SWAC',\n",
       " 'Southern',\n",
       " 'Southland',\n",
       " 'Summit',\n",
       " 'Sun Belt',\n",
       " 'WAC'}"
      ]
     },
     "execution_count": 5,
     "metadata": {},
     "output_type": "execute_result"
    }
   ],
   "source": [
    "set(rev_df['Confrence'])"
   ]
  },
  {
   "cell_type": "code",
   "execution_count": 6,
   "metadata": {},
   "outputs": [],
   "source": [
    "p5 = ['ACC', 'Big 12', 'Big Ten', 'Pac-12', 'SEC']\n",
    "g5 = ['Sun Belt', 'MAC', 'AAC', 'C-USA', 'Mt. West']"
   ]
  },
  {
   "cell_type": "code",
   "execution_count": 31,
   "metadata": {},
   "outputs": [
    {
     "name": "stderr",
     "output_type": "stream",
     "text": [
      "/home/cody/anaconda3/envs/tensorflow-gpu/lib/python3.6/site-packages/ipykernel/__main__.py:5: SettingWithCopyWarning: \n",
      "A value is trying to be set on a copy of a slice from a DataFrame.\n",
      "Try using .loc[row_indexer,col_indexer] = value instead\n",
      "\n",
      "See the caveats in the documentation: http://pandas.pydata.org/pandas-docs/stable/indexing.html#indexing-view-versus-copy\n",
      "/home/cody/anaconda3/envs/tensorflow-gpu/lib/python3.6/site-packages/ipykernel/__main__.py:7: SettingWithCopyWarning: \n",
      "A value is trying to be set on a copy of a slice from a DataFrame.\n",
      "Try using .loc[row_indexer,col_indexer] = value instead\n",
      "\n",
      "See the caveats in the documentation: http://pandas.pydata.org/pandas-docs/stable/indexing.html#indexing-view-versus-copy\n",
      "/home/cody/anaconda3/envs/tensorflow-gpu/lib/python3.6/site-packages/ipykernel/__main__.py:8: SettingWithCopyWarning: \n",
      "A value is trying to be set on a copy of a slice from a DataFrame.\n",
      "Try using .loc[row_indexer,col_indexer] = value instead\n",
      "\n",
      "See the caveats in the documentation: http://pandas.pydata.org/pandas-docs/stable/indexing.html#indexing-view-versus-copy\n"
     ]
    },
    {
     "data": {
      "text/html": [
       "<div>\n",
       "<style scoped>\n",
       "    .dataframe tbody tr th:only-of-type {\n",
       "        vertical-align: middle;\n",
       "    }\n",
       "\n",
       "    .dataframe tbody tr th {\n",
       "        vertical-align: top;\n",
       "    }\n",
       "\n",
       "    .dataframe thead th {\n",
       "        text-align: right;\n",
       "    }\n",
       "</style>\n",
       "<table border=\"1\" class=\"dataframe\">\n",
       "  <thead>\n",
       "    <tr style=\"text-align: right;\">\n",
       "      <th></th>\n",
       "      <th>School</th>\n",
       "      <th>Confrence</th>\n",
       "      <th>Revenue</th>\n",
       "      <th>Expenses</th>\n",
       "    </tr>\n",
       "  </thead>\n",
       "  <tbody>\n",
       "    <tr>\n",
       "      <th>0</th>\n",
       "      <td>Texas</td>\n",
       "      <td>Big 12</td>\n",
       "      <td>214830647</td>\n",
       "      <td>207022323</td>\n",
       "    </tr>\n",
       "    <tr>\n",
       "      <th>1</th>\n",
       "      <td>Michigan</td>\n",
       "      <td>Big Ten</td>\n",
       "      <td>185173187</td>\n",
       "      <td>175425392</td>\n",
       "    </tr>\n",
       "    <tr>\n",
       "      <th>2</th>\n",
       "      <td>Ohio State</td>\n",
       "      <td>Big Ten</td>\n",
       "      <td>185409602</td>\n",
       "      <td>173507435</td>\n",
       "    </tr>\n",
       "    <tr>\n",
       "      <th>3</th>\n",
       "      <td>Alabama</td>\n",
       "      <td>SEC</td>\n",
       "      <td>174307419</td>\n",
       "      <td>158646962</td>\n",
       "    </tr>\n",
       "    <tr>\n",
       "      <th>4</th>\n",
       "      <td>Texas A&amp;M</td>\n",
       "      <td>SEC</td>\n",
       "      <td>211960034</td>\n",
       "      <td>146546229</td>\n",
       "    </tr>\n",
       "  </tbody>\n",
       "</table>\n",
       "</div>"
      ],
      "text/plain": [
       "       School Confrence    Revenue   Expenses\n",
       "0       Texas    Big 12  214830647  207022323\n",
       "1    Michigan   Big Ten  185173187  175425392\n",
       "2  Ohio State   Big Ten  185409602  173507435\n",
       "3     Alabama       SEC  174307419  158646962\n",
       "4   Texas A&M       SEC  211960034  146546229"
      ]
     },
     "execution_count": 31,
     "metadata": {},
     "output_type": "execute_result"
    }
   ],
   "source": [
    "p5_df = rev_df[[x in p5 for x in rev_df.Confrence]]\n",
    "for col in [\"Revenue\", \"Expenses\"]:\n",
    "    \n",
    "    temp = p5_df[col].str.replace('$', '', regex=True)\n",
    "    p5_df[col] = temp\n",
    "    temp  = p5_df[col].str.replace(',', '', regex=True)\n",
    "    p5_df[col] = temp\n",
    "    p5_df[col] = p5_df[col].astype(int)\n",
    "    \n",
    "p5_df.head()\n",
    "\n"
   ]
  },
  {
   "cell_type": "code",
   "execution_count": 32,
   "metadata": {},
   "outputs": [
    {
     "name": "stderr",
     "output_type": "stream",
     "text": [
      "/home/cody/anaconda3/envs/tensorflow-gpu/lib/python3.6/site-packages/ipykernel/__main__.py:5: SettingWithCopyWarning: \n",
      "A value is trying to be set on a copy of a slice from a DataFrame.\n",
      "Try using .loc[row_indexer,col_indexer] = value instead\n",
      "\n",
      "See the caveats in the documentation: http://pandas.pydata.org/pandas-docs/stable/indexing.html#indexing-view-versus-copy\n",
      "/home/cody/anaconda3/envs/tensorflow-gpu/lib/python3.6/site-packages/ipykernel/__main__.py:7: SettingWithCopyWarning: \n",
      "A value is trying to be set on a copy of a slice from a DataFrame.\n",
      "Try using .loc[row_indexer,col_indexer] = value instead\n",
      "\n",
      "See the caveats in the documentation: http://pandas.pydata.org/pandas-docs/stable/indexing.html#indexing-view-versus-copy\n",
      "/home/cody/anaconda3/envs/tensorflow-gpu/lib/python3.6/site-packages/ipykernel/__main__.py:8: SettingWithCopyWarning: \n",
      "A value is trying to be set on a copy of a slice from a DataFrame.\n",
      "Try using .loc[row_indexer,col_indexer] = value instead\n",
      "\n",
      "See the caveats in the documentation: http://pandas.pydata.org/pandas-docs/stable/indexing.html#indexing-view-versus-copy\n"
     ]
    },
    {
     "data": {
      "text/html": [
       "<div>\n",
       "<style scoped>\n",
       "    .dataframe tbody tr th:only-of-type {\n",
       "        vertical-align: middle;\n",
       "    }\n",
       "\n",
       "    .dataframe tbody tr th {\n",
       "        vertical-align: top;\n",
       "    }\n",
       "\n",
       "    .dataframe thead th {\n",
       "        text-align: right;\n",
       "    }\n",
       "</style>\n",
       "<table border=\"1\" class=\"dataframe\">\n",
       "  <thead>\n",
       "    <tr style=\"text-align: right;\">\n",
       "      <th></th>\n",
       "      <th>School</th>\n",
       "      <th>Confrence</th>\n",
       "      <th>Revenue</th>\n",
       "      <th>Expenses</th>\n",
       "    </tr>\n",
       "  </thead>\n",
       "  <tbody>\n",
       "    <tr>\n",
       "      <th>47</th>\n",
       "      <td>Connecticut</td>\n",
       "      <td>AAC</td>\n",
       "      <td>83374223</td>\n",
       "      <td>83121820</td>\n",
       "    </tr>\n",
       "    <tr>\n",
       "      <th>53</th>\n",
       "      <td>Cincinnati</td>\n",
       "      <td>AAC</td>\n",
       "      <td>60458195</td>\n",
       "      <td>62804292</td>\n",
       "    </tr>\n",
       "    <tr>\n",
       "      <th>54</th>\n",
       "      <td>Central Florida</td>\n",
       "      <td>AAC</td>\n",
       "      <td>56327225</td>\n",
       "      <td>56327225</td>\n",
       "    </tr>\n",
       "    <tr>\n",
       "      <th>55</th>\n",
       "      <td>Houston</td>\n",
       "      <td>AAC</td>\n",
       "      <td>57174900</td>\n",
       "      <td>55277308</td>\n",
       "    </tr>\n",
       "    <tr>\n",
       "      <th>56</th>\n",
       "      <td>San Diego State</td>\n",
       "      <td>Mt. West</td>\n",
       "      <td>52454787</td>\n",
       "      <td>51569852</td>\n",
       "    </tr>\n",
       "  </tbody>\n",
       "</table>\n",
       "</div>"
      ],
      "text/plain": [
       "             School Confrence   Revenue  Expenses\n",
       "47      Connecticut       AAC  83374223  83121820\n",
       "53       Cincinnati       AAC  60458195  62804292\n",
       "54  Central Florida       AAC  56327225  56327225\n",
       "55          Houston       AAC  57174900  55277308\n",
       "56  San Diego State  Mt. West  52454787  51569852"
      ]
     },
     "execution_count": 32,
     "metadata": {},
     "output_type": "execute_result"
    }
   ],
   "source": [
    "g5_df = rev_df[[x in g5 for x in rev_df.Confrence]]\n",
    "for col in [\"Revenue\", \"Expenses\"]:\n",
    "    \n",
    "    temp = g5_df[col].str.replace('$', '', regex=True)\n",
    "    g5_df[col] = temp\n",
    "    temp  = g5_df[col].str.replace(',', '', regex=True)\n",
    "    g5_df[col] = temp\n",
    "    g5_df[col] = g5_df[col].astype(int)\n",
    "    \n",
    "g5_df.head()\n",
    "\n"
   ]
  },
  {
   "cell_type": "code",
   "execution_count": 48,
   "metadata": {},
   "outputs": [
    {
     "data": {
      "image/png": "[encoded data removed]",
      "text/plain": [
       "<Figure size 720x720 with 1 Axes>"
      ]
     },
     "metadata": {},
     "output_type": "display_data"
    }
   ],
   "source": [
    "import matplotlib\n",
    "plt.figure(figsize=(10,10))\n",
    "ax = plt.gca()\n",
    "ax.get_yaxis().get_major_formatter().set_scientific(False)\n",
    "ax.get_yaxis().set_major_formatter(\n",
    "    matplotlib.ticker.FuncFormatter(lambda x, p: format(int(x), ',')))\n",
    "plt.boxplot((p5_df.Expenses, g5_df.Expenses), labels=[\"P5\", \"G5\"])\n",
    "plt.title(\"Expenditures Power Five and Group of Five Confrences\")\n",
    "plt.ylabel(\"Expeniture in Dollars\")\n",
    "plt.show()\n"
   ]
  },
  {
   "cell_type": "code",
   "execution_count": null,
   "metadata": {},
   "outputs": [],
   "source": []
  }
 ],
 "metadata": {
  "kernelspec": {
   "display_name": "Python 3",
   "language": "python",
   "name": "python3"
  },
  "language_info": {
   "codemirror_mode": {
    "name": "ipython",
    "version": 3
   },
   "file_extension": ".py",
   "mimetype": "text/x-python",
   "name": "python",
   "nbconvert_exporter": "python",
   "pygments_lexer": "ipython3",
   "version": "3.6.1"
  }
 },
 "nbformat": 4,
 "nbformat_minor": 2
}
