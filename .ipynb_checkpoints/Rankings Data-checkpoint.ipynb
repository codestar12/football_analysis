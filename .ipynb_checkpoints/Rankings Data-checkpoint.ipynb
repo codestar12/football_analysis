{
 "cells": [
  {
   "cell_type": "code",
   "execution_count": 12,
   "metadata": {},
   "outputs": [],
   "source": [
    "import pandas as pd\n",
    "import numpy as np\n",
    "import re"
   ]
  },
  {
   "cell_type": "markdown",
   "metadata": {},
   "source": [
    "## Grab all the files"
   ]
  },
  {
   "cell_type": "code",
   "execution_count": 92,
   "metadata": {},
   "outputs": [],
   "source": [
    "years = { \n",
    "    \"2007\": \"/Users/codyblakeney/football_analysis/FBS-top25-AP-2007 - Sheet1.csv\",\n",
    "    \"2008\": \"/Users/codyblakeney/football_analysis/FBS-top25-AP-2008 - Sheet1.csv\",\n",
    "    \"2009\": \"/Users/codyblakeney/football_analysis/FBS-top25-AP-2009 - Sheet1.csv\",\n",
    "    \"2010\": \"/Users/codyblakeney/football_analysis/FBS-top25-AP-2010 - Sheet1.csv\",\n",
    "    \"2011\": \"/Users/codyblakeney/football_analysis/FBS-top25-AP-2011 - Sheet1.csv\",\n",
    "    \"2012\": \"/Users/codyblakeney/football_analysis/FBS-top25-AP-2012 - Sheet1.csv\",\n",
    "    \"2013\": \"/Users/codyblakeney/football_analysis/FBS-top25-AP-2013 - Sheet1.csv\",\n",
    "    \"2014\": \"/Users/codyblakeney/football_analysis/FBS-top25-AP-2014 - Sheet1.csv\",\n",
    "    \"2015\": \"/Users/codyblakeney/football_analysis/FBS-top25-AP-2015 - Sheet1.csv\",\n",
    "    \"2016\": \"/Users/codyblakeney/football_analysis/FBS-top25-AP-2016 - Sheet1.csv\",\n",
    "    \"2017\": \"/Users/codyblakeney/football_analysis/FBS-top25-AP-2017 - Sheet1.csv\",\n",
    "}"
   ]
  },
  {
   "cell_type": "code",
   "execution_count": 116,
   "metadata": {},
   "outputs": [],
   "source": [
    "top_25 = {}\n",
    "for year in years.keys():\n",
    "    top_25[year] = pd.read_csv(years[year])\n",
    "    for column in top_25[year].columns:\n",
    "        top_25[year][column] = top_25[year][column].str.replace(r'[ \\n]\\([0-9\\-]*\\)| \\u0442| \\([0-9\\u2013]*\\)', '', regex=True)"
   ]
  },
  {
   "cell_type": "code",
   "execution_count": 146,
   "metadata": {},
   "outputs": [],
   "source": [
    "top_25_teams_preseason = {}\n",
    "for year in top_25.keys():\n",
    "    for team in top_25[year][\"Preseason\"]:\n",
    "        if team in top_25_teams_preseason:\n",
    "            top_25_teams_preseason[team] += 1\n",
    "        else:\n",
    "            top_25_teams_preseason[team] = 1"
   ]
  },
  {
   "cell_type": "markdown",
   "metadata": {},
   "source": [
    "## Number of Unique Teams Picked as Preseason Top-25 (2007-2017)"
   ]
  },
  {
   "cell_type": "code",
   "execution_count": 147,
   "metadata": {},
   "outputs": [
    {
     "data": {
      "text/plain": [
       "57"
      ]
     },
     "execution_count": 147,
     "metadata": {},
     "output_type": "execute_result"
    }
   ],
   "source": [
    "len(top_25_teams_preseason)"
   ]
  },
  {
   "cell_type": "code",
   "execution_count": 148,
   "metadata": {},
   "outputs": [],
   "source": [
    "top_25_teams_final = {}\n",
    "for year in top_25.keys():\n",
    "    for team in top_25[year][\"Final\"]:\n",
    "        if team in top_25_teams_final:\n",
    "            top_25_teams_final[team] += 1\n",
    "        else:\n",
    "            top_25_teams_final[team] = 1"
   ]
  },
  {
   "cell_type": "markdown",
   "metadata": {},
   "source": [
    "## Number of Unique Teams Final Top-25 (2007-2017)"
   ]
  },
  {
   "cell_type": "code",
   "execution_count": 149,
   "metadata": {},
   "outputs": [
    {
     "data": {
      "text/plain": [
       "75"
      ]
     },
     "execution_count": 149,
     "metadata": {},
     "output_type": "execute_result"
    }
   ],
   "source": [
    "len(top_25_teams_final)"
   ]
  },
  {
   "cell_type": "markdown",
   "metadata": {},
   "source": [
    "### It stands to reason that there would be some bias towards selecting blue chip teams to be favorites, and that the number of teams in the final top 25 would be greater than the preseason"
   ]
  },
  {
   "cell_type": "code",
   "execution_count": 150,
   "metadata": {},
   "outputs": [],
   "source": [
    "import matplotlib.pyplot as plt"
   ]
  },
  {
   "cell_type": "code",
   "execution_count": 182,
   "metadata": {},
   "outputs": [
    {
     "data": {
      "image/png": "[encoded data removed]",
      "text/plain": [
       "<matplotlib.figure.Figure at 0x11c2e44e0>"
      ]
     },
     "metadata": {},
     "output_type": "display_data"
    }
   ],
   "source": [
    "plt.hist(list(top_25_teams_final.values()))\n",
    "plt.xlabel(\"Number Of Top 25 Finish 07-17\")\n",
    "plt.ylabel(\"Number of Teams\")\n",
    "plt.show()"
   ]
  },
  {
   "cell_type": "code",
   "execution_count": 183,
   "metadata": {},
   "outputs": [
    {
     "data": {
      "image/png": "[encoded data removed]",
      "text/plain": [
       "<matplotlib.figure.Figure at 0x11c41df60>"
      ]
     },
     "metadata": {},
     "output_type": "display_data"
    }
   ],
   "source": [
    "plt.hist(list(top_25_teams_preseason.values()))\n",
    "plt.xlabel(\"Number Of Top 25 Picked Preseason 07-17\")\n",
    "plt.ylabel(\"Number of Teams\")\n",
    "plt.show()"
   ]
  },
  {
   "cell_type": "code",
   "execution_count": 174,
   "metadata": {},
   "outputs": [],
   "source": [
    "with open('/Users/codyblakeney/football_analysis/Power-Five-Schools.txt', 'rb') as f:\n",
    "    p5_schools = f.readlines()\n",
    "p5_schools = [x.strip().decode(\"utf-8\") for x in p5_schools]"
   ]
  },
  {
   "cell_type": "code",
   "execution_count": 175,
   "metadata": {},
   "outputs": [],
   "source": [
    "g5_preseason = 0\n",
    "for year in top_25.keys():\n",
    "    for team in top_25[year][\"Preseason\"]:\n",
    "        if team not in p5_schools:\n",
    "            g5_preseason += 1"
   ]
  },
  {
   "cell_type": "markdown",
   "metadata": {},
   "source": [
    "## Number Of Times G5 Schools Have Been Ranked Preseason (2007-2017)"
   ]
  },
  {
   "cell_type": "code",
   "execution_count": 176,
   "metadata": {},
   "outputs": [
    {
     "data": {
      "text/plain": [
       "17"
      ]
     },
     "execution_count": 176,
     "metadata": {},
     "output_type": "execute_result"
    }
   ],
   "source": [
    "g5_preseason"
   ]
  },
  {
   "cell_type": "code",
   "execution_count": 177,
   "metadata": {},
   "outputs": [],
   "source": [
    "g5_final = 0\n",
    "for year in top_25.keys():\n",
    "    for team in top_25[year][\"Final\"]:\n",
    "        if team not in p5_schools:\n",
    "            g5_final += 1"
   ]
  },
  {
   "cell_type": "markdown",
   "metadata": {},
   "source": [
    "## Number Of Times G5 Schools Have Ended The Season Ranked (2007-2017)"
   ]
  },
  {
   "cell_type": "code",
   "execution_count": 184,
   "metadata": {},
   "outputs": [
    {
     "data": {
      "text/plain": [
       "43"
      ]
     },
     "execution_count": 184,
     "metadata": {},
     "output_type": "execute_result"
    }
   ],
   "source": [
    "g5_final"
   ]
  },
  {
   "cell_type": "markdown",
   "metadata": {},
   "source": [
    "### In addition G5 teams are grossly underestimated from preseason predictions to final rankings"
   ]
  },
  {
   "cell_type": "code",
   "execution_count": null,
   "metadata": {},
   "outputs": [],
   "source": []
  }
 ],
 "metadata": {
  "kernelspec": {
   "display_name": "Python 3",
   "language": "python",
   "name": "python3"
  },
  "language_info": {
   "codemirror_mode": {
    "name": "ipython",
    "version": 3
   },
   "file_extension": ".py",
   "mimetype": "text/x-python",
   "name": "python",
   "nbconvert_exporter": "python",
   "pygments_lexer": "ipython3",
   "version": "3.6.1"
  }
 },
 "nbformat": 4,
 "nbformat_minor": 2
}
